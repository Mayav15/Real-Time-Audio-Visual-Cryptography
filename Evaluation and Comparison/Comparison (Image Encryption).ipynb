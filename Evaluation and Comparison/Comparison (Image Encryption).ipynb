{
 "cells": [
  {
   "cell_type": "markdown",
   "id": "8e8a2dc9",
   "metadata": {},
   "source": [
    "# Substitution\n",
    "\n",
    "Mathematical complexity: 256!"
   ]
  },
  {
   "cell_type": "code",
   "execution_count": 1,
   "id": "15970463",
   "metadata": {},
   "outputs": [],
   "source": [
    "import cv2\n",
    "import numpy as np\n",
    "import pandas as pd\n",
    "import random\n",
    "import matplotlib.pyplot as plt\n",
    "import matplotlib.image as mpimg\n",
    "import time\n",
    "import math\n",
    "\n",
    "def monoalphabetic_key_generation():\n",
    "    original_pool = np.arange(0,256)\n",
    "    shuffled_pool = np.copy(original_pool)\n",
    "    np.random.shuffle(shuffled_pool)\n",
    "    mapping = dict(zip(original_pool, shuffled_pool))\n",
    "    reverse_mapping = dict(zip(shuffled_pool, original_pool))\n",
    "    return mapping,reverse_mapping\n",
    "\n",
    "def monoalphabetic_cipher_color_encrypt(image,mapping_key):\n",
    "    key_list = np.array(list(mapping_key.keys()))\n",
    "    value_list = np.array(list(mapping_key.values()))\n",
    "    mapping_array = np.zeros(key_list.max()+1,dtype=value_list.dtype)\n",
    "    mapping_array[key_list] = value_list\n",
    "    encrypted_image = mapping_array[image]\n",
    "    return encrypted_image\n",
    "\n",
    "def monoalphabetic_cipher_color_decrypt(image,reverse_mapping_key):\n",
    "    key_list = np.array(list(reverse_mapping_key.keys()))\n",
    "    value_list = np.array(list(reverse_mapping_key.values()))\n",
    "    reverse_mapping_array = np.zeros(key_list.max()+1,dtype=value_list.dtype)\n",
    "    reverse_mapping_array[key_list] = value_list\n",
    "    decrypted_image = reverse_mapping_array[image]\n",
    "    return decrypted_image\n",
    "\n",
    "key,reverse_key = monoalphabetic_key_generation()\n",
    "# key = {1:255,5:234,2:231,7:45,47:78,249:113}\n",
    "# reverse_key = {255:1,234:5,231:2,45:7,78:47,113:249}\n",
    "img = cv2.imread('Sample.png')\n",
    "img = cv2.cvtColor(img, cv2.COLOR_RGB2BGR)\n",
    "\n",
    "encrypted_img = monoalphabetic_cipher_color_encrypt(img, key)\n",
    "plt.imsave(\"Sample_encrypted_substitution.png\",encrypted_img.astype('uint8'))\n",
    "decrypted_img = monoalphabetic_cipher_color_decrypt(encrypted_img, reverse_key)\n",
    "plt.imsave(\"Sample_decrypted_substitution.png\",decrypted_img.astype('uint8'))"
   ]
  },
  {
   "cell_type": "code",
   "execution_count": 2,
   "id": "815661a5",
   "metadata": {},
   "outputs": [
    {
     "name": "stdout",
     "output_type": "stream",
     "text": [
      "Encryption time (Substitution): 0.025204896926879883\n"
     ]
    }
   ],
   "source": [
    "start = time.time()\n",
    "encrypted_img = monoalphabetic_cipher_color_encrypt(img, key)\n",
    "end = time.time()\n",
    "encryption_time_substitution = end-start\n",
    "print(\"Encryption time (Substitution): \"+str(end-start))"
   ]
  },
  {
   "cell_type": "code",
   "execution_count": 3,
   "id": "2303ca9f",
   "metadata": {},
   "outputs": [
    {
     "name": "stdout",
     "output_type": "stream",
     "text": [
      "Decryption time (Substitution): 0.03002142906188965\n"
     ]
    }
   ],
   "source": [
    "start = time.time()\n",
    "decrypted_img = monoalphabetic_cipher_color_decrypt(encrypted_img, reverse_key)\n",
    "end = time.time()\n",
    "decryption_time_substitution = end-start\n",
    "print(\"Decryption time (Substitution): \"+str(end-start))"
   ]
  },
  {
   "cell_type": "markdown",
   "id": "a0432f90",
   "metadata": {},
   "source": [
    "# AES\n",
    "Mathematical complexity: 2^256"
   ]
  },
  {
   "cell_type": "code",
   "execution_count": 4,
   "id": "7d28fae2",
   "metadata": {},
   "outputs": [],
   "source": [
    "import time"
   ]
  },
  {
   "cell_type": "code",
   "execution_count": 5,
   "id": "d0d094fb",
   "metadata": {},
   "outputs": [],
   "source": [
    "from Cryptodome.Cipher import AES\n",
    "from Cryptodome.Util.Padding import pad, unpad\n",
    "from Cryptodome.Random import get_random_bytes\n",
    "\n",
    "# specify the key and initialization vector (IV)\n",
    "key = key = get_random_bytes(32)\n",
    "iv = iv = get_random_bytes(16)\n",
    "\n",
    "# create the AES cipher object\n",
    "cipher = AES.new(key, AES.MODE_CBC, iv)\n",
    "\n",
    "# read the image data\n",
    "with open('Sample.png', 'rb') as f:\n",
    "    data = f.read()\n",
    "\n",
    "# pad the data to a multiple of 16 bytes using PKCS7 padding\n",
    "padded_data = pad(data, AES.block_size, style='pkcs7')\n",
    "\n",
    "# encrypt the data\n",
    "encrypted_data = cipher.encrypt(padded_data)\n",
    "\n",
    "# write the encrypted data to a file\n",
    "with open('Sample_encrypted_AES.png', 'wb') as f:\n",
    "    f.write(encrypted_data)\n",
    "\n",
    "# decrypt the encrypted data\n",
    "cipher = AES.new(key, AES.MODE_CBC, iv)\n",
    "decrypted_data = unpad(cipher.decrypt(encrypted_data), AES.block_size, style='pkcs7')\n",
    "\n",
    "# write the decrypted data to a file\n",
    "with open('Sample_decrypted_AES.png', 'wb') as f:\n",
    "    f.write(decrypted_data)"
   ]
  },
  {
   "cell_type": "code",
   "execution_count": 6,
   "id": "c1c7fc53",
   "metadata": {},
   "outputs": [
    {
     "name": "stdout",
     "output_type": "stream",
     "text": [
      "Encryption time (AES): 0.015279769897460938\n"
     ]
    }
   ],
   "source": [
    "cipher = AES.new(key, AES.MODE_CBC, iv)\n",
    "start = time.time()\n",
    "with open('Sample.png', 'rb') as f:\n",
    "    data = f.read()\n",
    "padded_data = pad(data, AES.block_size, style='pkcs7')\n",
    "encrypted_data = cipher.encrypt(padded_data)\n",
    "with open('Sample_encrypted_AES.png', 'wb') as f:\n",
    "    f.write(encrypted_data)\n",
    "end = time.time()\n",
    "encryption_time_AES = end-start\n",
    "print(\"Encryption time (AES): \"+str(end-start))"
   ]
  },
  {
   "cell_type": "code",
   "execution_count": 7,
   "id": "467bf721",
   "metadata": {},
   "outputs": [
    {
     "name": "stdout",
     "output_type": "stream",
     "text": [
      "Decryption time (AES): 0.03503084182739258\n"
     ]
    }
   ],
   "source": [
    "cipher = AES.new(key, AES.MODE_CBC, iv)\n",
    "start = time.time()\n",
    "with open('Sample_encrypted_AES.png', 'rb') as f:\n",
    "    encrypted_data = f.read()\n",
    "decrypted_data = unpad(cipher.decrypt(encrypted_data), AES.block_size, style='pkcs7')\n",
    "with open('Sample_decrypted_AES.png', 'wb') as f:\n",
    "    f.write(decrypted_data)\n",
    "end = time.time()\n",
    "decryption_time_AES = end-start\n",
    "print(\"Decryption time (AES): \"+str(end-start))"
   ]
  },
  {
   "cell_type": "markdown",
   "id": "8d80f732",
   "metadata": {},
   "source": [
    "# RC4\n",
    "Mathematical complexity: 2^80"
   ]
  },
  {
   "cell_type": "code",
   "execution_count": 8,
   "id": "7ec0af4c",
   "metadata": {},
   "outputs": [],
   "source": [
    "def rc4_encrypt(data, key):\n",
    "    S = list(range(256))\n",
    "    j = 0\n",
    "    out = []\n",
    "\n",
    "    # Key-scheduling algorithm\n",
    "    for i in range(256):\n",
    "        j = (j + S[i] + key[i % len(key)]) % 256\n",
    "        S[i], S[j] = S[j], S[i]\n",
    "\n",
    "    # Pseudo-random generation algorithm\n",
    "    i = j = 0\n",
    "    for byte in data:\n",
    "        i = (i + 1) % 256\n",
    "        j = (j + S[i]) % 256\n",
    "        S[i], S[j] = S[j], S[i]\n",
    "        out.append(byte ^ S[(S[i] + S[j]) % 256])\n",
    "\n",
    "    return bytes(out)\n",
    "\n",
    "\n",
    "def rc4_decrypt(data, key):\n",
    "    return rc4_encrypt(data, key)\n",
    "\n",
    "# Load image data\n",
    "with open(\"Sample.png\", \"rb\") as f:\n",
    "    data = f.read()\n",
    "\n",
    "# Encrypt image data with RC4\n",
    "key = b\"my-secret-key\"\n",
    "encrypted_data = rc4_encrypt(data, key)\n",
    "\n",
    "with open(\"Sample_encrypted_RC4.png\", \"wb\") as f:\n",
    "    f.write(encrypted_data)\n",
    "\n",
    "# Decrypt encrypted image data with RC4\n",
    "decrypted_data = rc4_decrypt(encrypted_data, key)\n",
    "\n",
    "# Save decrypted image data to file\n",
    "with open(\"Sample_decrypted_RC4.png\", \"wb\") as f:\n",
    "    f.write(decrypted_data)"
   ]
  },
  {
   "cell_type": "code",
   "execution_count": 9,
   "id": "6884d10c",
   "metadata": {},
   "outputs": [
    {
     "name": "stdout",
     "output_type": "stream",
     "text": [
      "Encryption time (RC4): 0.8651797771453857\n"
     ]
    }
   ],
   "source": [
    "start = time.time()\n",
    "with open('Sample.png', 'rb') as f:\n",
    "    data = f.read()\n",
    "encrypted_data = rc4_encrypt(data, key)\n",
    "with open(\"Sample_encrypted_RC4.png\", \"wb\") as f:\n",
    "    f.write(encrypted_data)\n",
    "end = time.time()\n",
    "encryption_time_RC4 = end-start\n",
    "print(\"Encryption time (RC4): \"+str(end-start))"
   ]
  },
  {
   "cell_type": "code",
   "execution_count": 10,
   "id": "8e67886e",
   "metadata": {},
   "outputs": [
    {
     "name": "stdout",
     "output_type": "stream",
     "text": [
      "Decryption time (RC4): 0.8865010738372803\n"
     ]
    }
   ],
   "source": [
    "start = time.time()\n",
    "with open('Sample_encrypted_RC4.png', 'rb') as f:\n",
    "    encrypted_data = f.read()\n",
    "decrypted_data = rc4_decrypt(encrypted_data, key)\n",
    "with open(\"Sample_decrypted_RC4.png\", \"wb\") as f:\n",
    "    f.write(decrypted_data)\n",
    "end = time.time()\n",
    "decryption_time_RC4 = end-start\n",
    "print(\"Decryption time (RC4): \"+str(end-start))"
   ]
  },
  {
   "cell_type": "markdown",
   "id": "adb447c1",
   "metadata": {},
   "source": [
    "# ChaCha20\n",
    "Mathematical Complexity: 2^352"
   ]
  },
  {
   "cell_type": "code",
   "execution_count": 11,
   "id": "2c8c0795",
   "metadata": {},
   "outputs": [],
   "source": [
    "from Cryptodome.Cipher import ChaCha20\n",
    "from Cryptodome.Random import get_random_bytes\n",
    "from PIL import Image\n",
    "import io\n",
    "\n",
    "# Generate a random key and nonce\n",
    "key = get_random_bytes(32)\n",
    "nonce = get_random_bytes(8)\n",
    "\n",
    "# Open the image file\n",
    "with open(\"Sample.png\", \"rb\") as f:\n",
    "    img_bytes = f.read()\n",
    "\n",
    "# Create a new ChaCha20 cipher object\n",
    "cipher = ChaCha20.new(key=key, nonce=nonce)\n",
    "\n",
    "# Encrypt the image data\n",
    "encrypted_img_bytes = cipher.encrypt(img_bytes)\n",
    "with open(\"Sample_encrypted_ChaCha20.png\", \"wb\") as f:\n",
    "    f.write(encrypted_img_bytes)\n",
    "\n",
    "# Decrypt the encrypted image data\n",
    "cipher = ChaCha20.new(key=key, nonce=nonce)\n",
    "decrypted_img_bytes = cipher.decrypt(encrypted_img_bytes)\n",
    "\n",
    "with open(\"Sample_decrypted_ChaCha20.png\", \"wb\") as f:\n",
    "    f.write(decrypted_img_bytes)"
   ]
  },
  {
   "cell_type": "code",
   "execution_count": 12,
   "id": "17b6ef55",
   "metadata": {},
   "outputs": [
    {
     "name": "stdout",
     "output_type": "stream",
     "text": [
      "Encryption time (ChaCha20): 0.014959573745727539\n"
     ]
    }
   ],
   "source": [
    "cipher = ChaCha20.new(key=key, nonce=nonce)\n",
    "start = time.time()\n",
    "with open(\"Sample.png\", \"rb\") as f:\n",
    "    img_bytes = f.read()\n",
    "encrypted_img_bytes = cipher.encrypt(img_bytes)\n",
    "with open(\"Sample_encrypted_ChaCha20.png\", \"wb\") as f:\n",
    "    f.write(encrypted_img_bytes)\n",
    "end = time.time()\n",
    "encryption_time_ChaCha20 = end-start\n",
    "print(\"Encryption time (ChaCha20): \"+str(end-start))"
   ]
  },
  {
   "cell_type": "code",
   "execution_count": 13,
   "id": "21f8167a",
   "metadata": {},
   "outputs": [
    {
     "name": "stdout",
     "output_type": "stream",
     "text": [
      "Decryption time (ChaCha20): 0.03516054153442383\n"
     ]
    }
   ],
   "source": [
    "cipher = ChaCha20.new(key=key, nonce=nonce)\n",
    "start = time.time()\n",
    "with open(\"Sample_encrypted_ChaCha20.png\", \"rb\") as f:\n",
    "    encrypted_img_bytes = f.read()\n",
    "decrypted_img_bytes = cipher.decrypt(encrypted_img_bytes)\n",
    "with open(\"Sample_decrypted_ChaCha20.png\", \"wb\") as f:\n",
    "    f.write(decrypted_img_bytes)\n",
    "end = time.time()\n",
    "decryption_time_ChaCha20 = end-start\n",
    "print(\"Decryption time (ChaCha20): \"+str(end-start))"
   ]
  }
 ],
 "metadata": {
  "kernelspec": {
   "display_name": "Python 3",
   "language": "python",
   "name": "python3"
  },
  "language_info": {
   "codemirror_mode": {
    "name": "ipython",
    "version": 3
   },
   "file_extension": ".py",
   "mimetype": "text/x-python",
   "name": "python",
   "nbconvert_exporter": "python",
   "pygments_lexer": "ipython3",
   "version": "3.8.8"
  }
 },
 "nbformat": 4,
 "nbformat_minor": 5
}
