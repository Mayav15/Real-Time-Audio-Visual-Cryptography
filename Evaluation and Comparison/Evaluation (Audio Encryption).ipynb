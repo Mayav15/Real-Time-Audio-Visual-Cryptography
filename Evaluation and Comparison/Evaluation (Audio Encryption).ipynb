{
 "cells": [
  {
   "cell_type": "code",
   "execution_count": 1,
   "id": "ad54fb24",
   "metadata": {},
   "outputs": [],
   "source": [
    "import time\n",
    "from random import shuffle\n",
    "import wave\n",
    "import numpy as np\n",
    "import math\n",
    "import binascii"
   ]
  },
  {
   "cell_type": "code",
   "execution_count": 2,
   "id": "a581d472",
   "metadata": {},
   "outputs": [],
   "source": [
    "def monoalphabetic_key_generation():\n",
    "    pool = \"0123456789abcdef\"\n",
    "    original_pool = list(pool)\n",
    "    shuffled_pool = list(pool)\n",
    "    shuffle(shuffled_pool)\n",
    "    monoalpha_key = dict(zip(original_pool, shuffled_pool))\n",
    "    inverse_monoalpha_key = dict(zip(shuffled_pool, original_pool))\n",
    "    return monoalpha_key,inverse_monoalpha_key\n",
    "    \n",
    "def monoalphabetic_audio_encrypt(audio_file,monoalphabetic_key):\n",
    "    modified_audio_file = audio_file.translate(audio_file.maketrans(monoalphabetic_key))\n",
    "    return modified_audio_file\n",
    "\n",
    "def monoalphabetic_audio_decrypt(audio_file,inverse_monoalphabetic_key):\n",
    "    return monoalphabetic_audio_encrypt(audio_file,inverse_monoalphabetic_key)\n",
    "\n",
    "def audio_encrypt(file_location,key):\n",
    "    with open(file_location,\"rb\") as file:\n",
    "        audio_file = file.read().hex()\n",
    "    encrypted_audio = monoalphabetic_audio_encrypt(audio_file,key)\n",
    "    with open(\"Sample_encrypted.wav\", \"wb\") as file:\n",
    "        file.write(bytes().fromhex(encrypted_audio))\n",
    "    encrypted_audio = bytes().fromhex(encrypted_audio)\n",
    "    return encrypted_audio\n",
    "\n",
    "def audio_decrypt(encrypted_audio,key_inverse):\n",
    "    encrypted_audio = encrypted_audio.hex()\n",
    "    decrypted_audio = monoalphabetic_audio_decrypt(encrypted_audio,key_inverse)\n",
    "    with open(\"Sample_decrypted.wav\", \"wb\") as file:\n",
    "        file.write(bytes().fromhex(decrypted_audio))\n",
    "    decrypted_audio = bytes().fromhex(decrypted_audio)\n",
    "    return decrypted_audio"
   ]
  },
  {
   "cell_type": "code",
   "execution_count": 3,
   "id": "f05f3943",
   "metadata": {},
   "outputs": [],
   "source": [
    "key,key_inverse = monoalphabetic_key_generation()"
   ]
  },
  {
   "cell_type": "code",
   "execution_count": 4,
   "id": "f7672f88",
   "metadata": {},
   "outputs": [],
   "source": [
    "# key = {'0': 'd',\n",
    "#  '1': 'c',\n",
    "#  '2': '2',\n",
    "#  '3': 'b',\n",
    "#  '4': '4',\n",
    "#  '5': '5',\n",
    "#  '6': '6',\n",
    "#  '7': '8',\n",
    "#  '8': 'a',\n",
    "#  '9': '9',\n",
    "#  'a': '0',\n",
    "#  'b': 'f',\n",
    "#  'c': '7',\n",
    "#  'd': '3',\n",
    "#  'e': '1',\n",
    "#  'f': 'e'}\n",
    "\n",
    "# key_inverse = {'d':'0',\n",
    "#  'c':'1',\n",
    "#  '2':'2',\n",
    "#  'b':'3',\n",
    "#  '4':'4',\n",
    "#  '5':'5',\n",
    "#  '6':'6',\n",
    "#  '8':'7',\n",
    "#  'a':'8',\n",
    "#  '9':'9',\n",
    "#  '0':'a',\n",
    "#  'f':'b',\n",
    "#  '7':'c',\n",
    "#  '3':'d',\n",
    "#  '1':'e',\n",
    "#  'e':'f'}"
   ]
  },
  {
   "cell_type": "code",
   "execution_count": 5,
   "id": "844311ec",
   "metadata": {},
   "outputs": [
    {
     "name": "stdout",
     "output_type": "stream",
     "text": [
      "0.007063627243041992\n"
     ]
    }
   ],
   "source": [
    "start = time.time()\n",
    "encrypted_audio = audio_encrypt(\"Sample2.wav\",key)\n",
    "end = time.time()\n",
    "print(end-start)"
   ]
  },
  {
   "cell_type": "code",
   "execution_count": 6,
   "id": "aa9513cc",
   "metadata": {},
   "outputs": [
    {
     "name": "stdout",
     "output_type": "stream",
     "text": [
      "0.007764101028442383\n"
     ]
    }
   ],
   "source": [
    "start = time.time()\n",
    "decrypted_audio = audio_decrypt(encrypted_audio,key_inverse)\n",
    "end = time.time()\n",
    "print(end-start)"
   ]
  },
  {
   "cell_type": "code",
   "execution_count": 7,
   "id": "244f6b70",
   "metadata": {},
   "outputs": [
    {
     "name": "stdout",
     "output_type": "stream",
     "text": [
      "Entropy of audio1:  6.8487057086718375\n",
      "Entropy of audio2:  6.8487057086718375\n"
     ]
    }
   ],
   "source": [
    "def shannon_entropy(data):\n",
    "    \"\"\"Calculate the Shannon entropy of a byte string.\"\"\"\n",
    "    # Calculate the frequency of each byte value\n",
    "    freq_dict = {}\n",
    "    for byte in data:\n",
    "        if byte in freq_dict:\n",
    "            freq_dict[byte] += 1\n",
    "        else:\n",
    "            freq_dict[byte] = 1\n",
    "    # Convert the frequency counts to probabilities\n",
    "    probs = [freq_dict[byte] / len(data) for byte in freq_dict]\n",
    "    # Calculate the entropy\n",
    "    entropy = -sum([p * math.log2(p) for p in probs])\n",
    "    return entropy\n",
    "\n",
    "# Load the two audio files as hex strings\n",
    "with open('Sample2.wav', 'rb') as f:\n",
    "    hex1 = f.read().hex().replace('\\n', '')\n",
    "    data1 = binascii.unhexlify(hex1)\n",
    "with open('Sample_encrypted.wav', 'rb') as f:\n",
    "    hex2 = f.read().hex().replace('\\n', '')\n",
    "    data2 = binascii.unhexlify(hex2)\n",
    "\n",
    "# Calculate the entropy of the two files\n",
    "entropy1 = shannon_entropy(data1)\n",
    "entropy2 = shannon_entropy(data2)\n",
    "\n",
    "# Print the results\n",
    "print(\"Entropy of audio1: \", entropy1)\n",
    "print(\"Entropy of audio2: \", entropy2)\n"
   ]
  },
  {
   "cell_type": "code",
   "execution_count": 10,
   "id": "4bc53378",
   "metadata": {},
   "outputs": [
    {
     "name": "stderr",
     "output_type": "stream",
     "text": [
      "<ipython-input-10-2cdf11463c6c>:6: WavFileWarning: Chunk (non-data) not understood, skipping it.\n",
      "  fs, plain_audio = wavfile.read('Sample2.wav')\n",
      "<ipython-input-10-2cdf11463c6c>:7: WavFileWarning: Chunk (non-data) not understood, skipping it.\n",
      "  fs, decrypted_audio = wavfile.read('Sample_decrypted.wav')\n"
     ]
    },
    {
     "name": "stdout",
     "output_type": "stream",
     "text": [
      "Plain audio: mean = -0.70, variance = 9448488.48, standard deviation = 3073.84\n",
      "Decrypted audio: mean = -0.70, variance = 9448488.48, standard deviation = 3073.84\n"
     ]
    },
    {
     "data": {
      "image/png": "[encoded data removed]",
      "text/plain": [
       "<Figure size 432x288 with 1 Axes>"
      ]
     },
     "metadata": {
      "needs_background": "light"
     },
     "output_type": "display_data"
    }
   ],
   "source": [
    "import numpy as np\n",
    "import matplotlib.pyplot as plt\n",
    "from scipy.io import wavfile\n",
    "\n",
    "# Load plain and decrypted audio files\n",
    "fs, plain_audio = wavfile.read('Sample2.wav')\n",
    "fs, decrypted_audio = wavfile.read('Sample_decrypted.wav')\n",
    "\n",
    "# Compute mean, variance, and standard deviation\n",
    "plain_mean = np.mean(plain_audio)\n",
    "plain_var = np.var(plain_audio)\n",
    "plain_std = np.std(plain_audio)\n",
    "\n",
    "decrypted_mean = np.mean(decrypted_audio)\n",
    "decrypted_var = np.var(decrypted_audio)\n",
    "decrypted_std = np.std(decrypted_audio)\n",
    "\n",
    "print(\"Plain audio: mean = {:.2f}, variance = {:.2f}, standard deviation = {:.2f}\".format(plain_mean, plain_var, plain_std))\n",
    "print(\"Decrypted audio: mean = {:.2f}, variance = {:.2f}, standard deviation = {:.2f}\".format(decrypted_mean, decrypted_var, decrypted_std))\n",
    "\n",
    "# # Compute correlation coefficient\n",
    "# corr_coef = np.corrcoef(plain_audio, decrypted_audio)[0, 1]\n",
    "# print(\"Correlation coefficient = {:.2f}\".format(corr_coef))\n",
    "\n",
    "# Plot histograms\n",
    "plt.hist(plain_audio, bins=10, alpha=0.5, label='Plain audio')\n",
    "plt.hist(decrypted_audio, bins=10, alpha=0.5, label='Decrypted audio')\n",
    "plt.legend(loc='upper right')\n",
    "plt.show()\n"
   ]
  },
  {
   "cell_type": "code",
   "execution_count": null,
   "id": "188c02ac",
   "metadata": {},
   "outputs": [],
   "source": []
  },
  {
   "cell_type": "code",
   "execution_count": null,
   "id": "b1aa755a",
   "metadata": {},
   "outputs": [],
   "source": []
  }
 ],
 "metadata": {
  "kernelspec": {
   "display_name": "Python 3",
   "language": "python",
   "name": "python3"
  },
  "language_info": {
   "codemirror_mode": {
    "name": "ipython",
    "version": 3
   },
   "file_extension": ".py",
   "mimetype": "text/x-python",
   "name": "python",
   "nbconvert_exporter": "python",
   "pygments_lexer": "ipython3",
   "version": "3.8.8"
  }
 },
 "nbformat": 4,
 "nbformat_minor": 5
}
